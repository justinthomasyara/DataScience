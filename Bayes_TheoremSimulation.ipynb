{
 "cells": [
  {
   "cell_type": "markdown",
   "metadata": {},
   "source": [
    "#### <a id='top'></a>\n",
    "\n",
    "# Homework 4: Bayes' for Days\n",
    "***\n",
    "\n",
    "**Name**: Justin Yara\n",
    "\n",
    "***\n",
    "\n",
    "This assignment is due on Canvas by **MIDNIGHT on Monday September 28**. Your solutions to theoretical questions should be done in Markdown directly below the associated question.  Your solutions to computational questions should include any specified Python code and results as well as written commentary on your conclusions.  Remember that you are encouraged to discuss the problems with your classmates, but **you must write all code and solutions on your own**.\n",
    "\n",
    "**NOTES**: \n",
    "\n",
    "- Any relevant data sets should be available under the **Data** module on Canvas. To make life easier on the graders if they need to run your code, do not change the relative path names here. Instead, move the files around on your computer.\n",
    "- If you're not familiar with typesetting math directly into Markdown then by all means, do your work on paper first and then typeset it later.  Remember that there is a [reference guide](https://math.meta.stackexchange.com/questions/5020/mathjax-basic-tutorial-and-quick-reference) linked on Canvas on writing math in Markdown. **All** of your written commentary, justifications and mathematical work should be in Markdown.\n",
    "- Because you can technically evaluate notebook cells is a non-linear order, it's a good idea to do Kernel $\\rightarrow$ Restart & Run All as a check before submitting your solutions.  That way if we need to run your code you will know that it will work as expected. \n",
    "- It is **bad form** to make your reader interpret numerical output from your code.  If a question asks you to compute some value from the data you should show your code output **AND** write a summary of the results in Markdown directly below your code. \n",
    "- 95 points of this assignment are in problems.  The remaining 5 are for neatness, style, and overall exposition of both code and text.\n",
    "- This probably goes without saying, but... For any question that asks you to calculate something, you **must show all work and justify your answers to receive credit**. Sparse or nonexistent work will receive sparse or nonexistent credit. \n",
    "\n",
    "---\n",
    "**Shortcuts:**  [Problem 1](#p1) | [Problem 2](#p2) | [Problem 3](#p3) |\n",
    "\n",
    "---"
   ]
  },
  {
   "cell_type": "code",
   "execution_count": 1,
   "metadata": {},
   "outputs": [],
   "source": [
    "import pandas as pd\n",
    "import numpy as np\n",
    "import matplotlib.pylab as plt\n",
    "import math\n",
    "%matplotlib inline"
   ]
  },
  {
   "cell_type": "markdown",
   "metadata": {},
   "source": [
    "***\n",
    "<a/ id='p1'></a>\n",
    "[Back to top](#top)\n",
    "\n",
    "## (15 pts) Problem 1: Theory (Bayes)\n",
    "***\n",
    "\n"
   ]
  },
  {
   "cell_type": "markdown",
   "metadata": {},
   "source": [
    "To get published in an academic journal, you have to prove something \"interesting.\"  As a result, most academics begin their research by investigating hypotheses that, all else equal, are unlikely to be true.  Suppose each research project begins with a research *hypothesis* that has a 12% chance of being correct.\n",
    "\n",
    "They then perform a study that satisfies the following two properties:\n",
    "\n",
    "    1) The probability that they correctly *find* an important result given that their *hypothesis* is true is 40%\n",
    "    2) The probability that they incorrectly *find* an important result given that their *hypothesis* is false is 5%\n",
    "\n",
    "If they *find* an important result they are published.  What is the probability that their *hypothesis* was true, given that they were published?"
   ]
  },
  {
   "cell_type": "markdown",
   "metadata": {},
   "source": [
    "**SOLUTION:**\n",
    "\n",
    "Denote the event that a claim is true by $C$ and that a finding finds it true by $F$.  We are given the following:\n",
    "\n",
    "1) $P(C)=.12$, so by complementation $P(C^C) = .88$\n",
    "\n",
    "2) $P(F|C)= .4$, so by complementation $P(F^C|C)= .6$\n",
    "\n",
    "3) $P(F|C^C)= .05$ , so by complementation $P(F^C|C^C)= .95$ \n",
    "    \n",
    "Our goal is to find the probability that a research claim is true ($C$) given that it is found or published ($F$), so using Bayes' theorem and then expanding the denominator via the Law of Total Probability:\n",
    "\n",
    "$$P(C|F)=\\frac{P(C \\cap F)}{P(F)}=\\frac{P(F|C)P(C)}{P(F|C)P(C)+P(F|C^C)P(C^C)}$$\n",
    "\n",
    "Plugging in our known values gives\n",
    "\n",
    "$$P(C|F)=\\frac{\\frac{2}{5}\\cdot \\frac{12}{100}}{\\frac{2}{5}\\cdot\\frac{12}{100}+\\frac{1}{20}\\cdot\\frac{88}{100}}=0.52$$\n"
   ]
  },
  {
   "cell_type": "markdown",
   "metadata": {},
   "source": [
    "[Back to top](#top)\n",
    "<a id='p2'></a>\n",
    "\n",
    "## (40 pts) Problem 2: Computation (Iterative Bayes)\n",
    "***\n",
    "\n",
    "You have decided you want to play a game with your roommate. Since you're both in Introduction to Data Science, you have your big bag of mixed dice, and you know you can do something interesting with dice!\n",
    "\n",
    "Unfortunately, you're trying to play while you bake (or maybe you've just come down with the chicken pox like Phoebe), so you're playing while wearing oven mitts that you simply cannot remove. Because of this fact, you can use your hands to pull dice from the bag, but cannot feel the dice.\n",
    "\n",
    "<img style=\"width: 200px; padding: 3mm;\" src=\"https://img.sharetv.com/shows/episodes/standard/204702.jpg\" alt=\"Phoebe with chicken pox in oven mitts\"/>\n",
    "\n",
    "Double unfortunately, you've been trapped in these oven mitts while wearing your ultra comfortable Ostrich Pillow because you were napping! Because of this fact, you also cannot see the dice you pull from the bag.\n",
    "\n",
    "<img style=\"width: 200px; padding: 3mm;\" src=\"https://i.pinimg.com/originals/d7/a3/6a/d7a36ab2216276c17c1b8b575fccad54.jpg\" alt=\"Phoebe with chicken pox in oven mitts\"/>\n",
    "\n",
    "Are you neither baking nor chicken poxed, and your roommate perhaps orchestrated this scenario to make this absurd situation arise? Who can say!\n",
    "\n",
    "In your collection, you own:\n",
    "* 20 fair six-sided dice (**S**), with faces `{1,2,3,4,5,6}`.\n",
    "* 15 fair eight-sided dice (**E**), with faces `{1,2,3,4,5,6,7,8}`.\n",
    "* 3 fair twenty-sided dice(**T**) (faces `{1,2,3,4,...,19,20}`).\n",
    "* 2 fair one-hundred-sided dice (**H**) (faces `{1,2,3,4,...,99,100}`).\n",
    "\n",
    "You and your roommate start to invent a game: you will blindly pull a die from the bag, roll the die, and your roommate will tell you what the result is. You will then guess how many sides - six, eight, twenty, or one hundred - the die you pulled has, and allocate points accordingly.\n",
    "\n",
    "But how many points are appropriate? _You'll need to figure out some probabilities here to determine what's fair!_\n",
    "\n",
    "Work the following problems by hand (or glove) for **Parts A through D and Part G** (but don't be afraid to simulate to check your result!). In **Parts E and F**, follow the instructions as written."
   ]
  },
  {
   "cell_type": "markdown",
   "metadata": {},
   "source": [
    "***\n",
    "**Part A**: You roll your die one time.  What is the probability of the event $R_7$, that you roll a 7?  Include at least 4 decimal places in your answer."
   ]
  },
  {
   "cell_type": "markdown",
   "metadata": {},
   "source": [
    "**Solution**:\n",
    "\n",
    "$\\begin{align*}\n",
    "P(R_7) &= P(R_7 \\mid S)P(S) + P(R_7 \\mid E) P(E) + P(R_7 \\mid T) P(T) + P(R_7 \\mid H) P(H) \\\\\n",
    "&= 0 \\cdot \\frac{20}{40} + \\frac{1}{8} \\frac{15}{40} + \\frac{1}{20}\\frac{3}{40} + \\frac{1}{100}\\frac{2}{40} \\\\\n",
    "&= \\frac{15}{320} + \\frac{3}{800} + \\frac{2}{4000} \\\\\n",
    "&= 0.05 \n",
    "\\end{align*}$"
   ]
  },
  {
   "cell_type": "markdown",
   "metadata": {},
   "source": [
    "***\n",
    "**Part B**: Suppose you roll a 7.  What is the probability that the die you chose from the bag is an Eight-sided die (**E**)? "
   ]
  },
  {
   "cell_type": "markdown",
   "metadata": {},
   "source": [
    "**Solution**:\n",
    "\n",
    "We use Bayes' Theorem:\n",
    "\n",
    "$\\begin{align*}\n",
    "P(E \\mid R_7) &= \\frac{P(R_7 \\mid E) P(E)}{P(R_7)} \\\\\n",
    " &= \\frac{\\frac{1}{8} \\cdot \\frac{15}{40}}{0.05} \\\\\n",
    " &= \\frac{\\frac{15}{320}}{\\frac{5}{100}} \\\\\n",
    " &= \\frac{15}{5}\\cdot\\frac{100}{320} \\\\\n",
    " &\\approx 0.91\n",
    "\\end{align*}$"
   ]
  },
  {
   "cell_type": "markdown",
   "metadata": {},
   "source": [
    "**Part C:**  Are the events $R_7$ and $E$ independent?  Justify your answer **using math**."
   ]
  },
  {
   "cell_type": "markdown",
   "metadata": {},
   "source": [
    "**Solution:**\n",
    "\n",
    "No they are not independent.  We know this because $P(R_7) \\neq P(R_7 \\mid E)$:\n",
    "* $P(R_7) \\approx 0.05$ (from **Part A**)\n",
    "* $P(R_7 \\mid E) = \\frac{1}{8} = 0.125$ (from part of **Part B**)\n"
   ]
  },
  {
   "cell_type": "markdown",
   "metadata": {},
   "source": [
    "**Part D:**  Suppose you roll your die $n$ times and record each outcome.  Obviously, if you roll 7 or higher you did *not* pick a Six-sided die,  if you roll a 9 or higher you did not pick a Six-sided or an Eight-sided, and if you roll a 21 or higher you must have picked a One-hundred-sided die.\n",
    "\n",
    "But, if you roll $n$ times in a row and get only 1, 2, 3, 4, 5, or 6 you would have a stronger belief that you in fact grabbed one of the Six-sided dice.  Let $L_n$ be the event that you roll $n$ rolls of 1, 2, 3, 4, 5, or 6 in a row.  For example, one possible outcome in $L_3$ is the sequence 2, 3, 1.\n",
    "\n",
    "Given that you roll a single value of 1, 2, 3, 4, 5, or 6, what is the probability that you have grabbed a Six-sided die?  That is, calculate **by hand** $P(S \\mid L_1)$."
   ]
  },
  {
   "cell_type": "markdown",
   "metadata": {},
   "source": [
    "**Solution:**\n",
    "\n",
    "$\\begin{align*}\n",
    "P(S \\mid L_1) &= \\frac{P(L_1 \\mid S) P(S)}{P(L_1)} \\\\\n",
    " &= \\frac{P(L_1 \\mid S) P(S)}{P(L_1 \\mid S) P(S) + P(L_1 \\mid E) P(E)  + P(L_1 \\mid T) P(T) + P(L_1 \\mid H) P(H)} \\\\\n",
    " &= \\frac{1 \\cdot \\frac{20}{40}}{1\\cdot \\frac{20}{40} + \\frac{6}{8} \\frac{15}{40} + \\frac{6}{20} \\frac{3}{40} + \\frac{6}{100} \\frac{2}{40}} \\\\\n",
    " &= \\frac{\\frac{1}{2}}{\\frac{1}{2} + \\frac{90}{320} + \\frac{18}{800} + \\frac{12}{4000}} \\\\\n",
    " &\\approx 0.61862\n",
    "\\end{align*}$"
   ]
  },
  {
   "cell_type": "markdown",
   "metadata": {},
   "source": [
    "**Part E**:  \n",
    "\n",
    "First, work out **by hand** a formula for the probability in general that you are rolling a Six-sided die, given that you have rolled $n$ values in a row that are 1, 2, 3, 4, 5 or 6 (that is, $L_n$).  So you want a formula for $P(S \\mid L_n)$ in terms of $n$.\n",
    "\n",
    "Then, define a function `prob_six` to calculate $P(S \\mid L_n)$.  This function should only take one positive integer argument, $n$.\n",
    "\n",
    "Verify that your function is performing as expected by checking your answer to **Part D**."
   ]
  },
  {
   "cell_type": "markdown",
   "metadata": {},
   "source": [
    "**Solution**:\n",
    "\n",
    "Let $L_n$ be the event that we roll $n$ values in a row that are 1,2,3, 4, 5 or 6.\n",
    "\n",
    "$$P(S \\mid L_n) = \\frac{P(L_n \\mid S) P(S)}{P(L_n)}$$\n",
    "\n",
    "Use the Law of Total Probability on the denominator to get\n",
    "\n",
    "$$P(S \\mid L_n) = \\frac{P(L_n \\mid S) P(S)}{P(L_n \\mid S) P(S) + P(L_n \\mid E) P(E) + P(L_n \\mid T) P(T) + P(L_n \\mid H) P(H)}$$\n",
    "\n",
    "Substitute in the easy things we already know:\n",
    "\n",
    "$$P(S \\mid L_n) = \\frac{P(L_n \\mid S) \\frac{20}{40}}{P(L_n \\mid S) \\frac{20}{40} + P(L_n \\mid E) \\frac{15}{40} + P(L_n \\mid T) \\frac{3}{40} + P(L_n \\mid H) \\frac{2}{40}}$$\n",
    "\n",
    "Side calculation: what's the probability that I get $\\leq 6$ $n$ times in a row if I have a Six-sided die in hand?\n",
    "$$P(L_n \\mid S) = 1$$\n",
    "\n",
    "Side calculation: what's the probability that I get $\\leq 6$ $n$ times in a row if I have a Eight-sided die in hand?\n",
    "$$P(L_n \\mid E) = \\left(\\frac{6}{8}\\right)^n = \\left(\\frac{3}{4}\\right)^n$$\n",
    "\n",
    "Side calculation: what's the probability that I get $\\leq 6$ $n$ times in a row if I have a Twenty-sided die in hand?\n",
    "$$P(L_n \\mid T) = \\left(\\frac{6}{20}\\right)^n = \\left(\\frac{3}{10}\\right)^n$$\n",
    "\n",
    "Side calculation: what's the probability that I get $\\leq 6$ $n$ times in a row if I have a One-hundred-sided die in hand?\n",
    "$$P(L_n \\mid H) = \\left(\\frac{6}{100}\\right)^n = \\left(\\frac{3}{50}\\right)^n$$\n",
    "\n",
    "Plug in side calcs:\n",
    "\n",
    "$$P(S \\mid L_n) = \\frac{1 \\cdot \\frac{1}{2}}{1 \\cdot \\frac{1}{2} + \\left(\\frac{3}{4}\\right)^n \\cdot \\frac{15}{40} + \\left(\\frac{3}{10}\\right)^n \\cdot \\frac{3}{40} + \\left(\\frac{3}{50}\\right)^n \\cdot \\frac{2}{40}}$$"
   ]
  },
  {
   "cell_type": "code",
   "execution_count": 2,
   "metadata": {},
   "outputs": [
    {
     "name": "stdout",
     "output_type": "stream",
     "text": [
      "0.6197706848466068\n"
     ]
    }
   ],
   "source": [
    "def prob_six(n):\n",
    "    return 0.5/(0.5 + (0.375)*(0.75**n) + (0.075)*(.3**n) + (0.05)*(.06**n))\n",
    "\n",
    "# Verification of Part D answer:  plug in n=1\n",
    "print(prob_six(1))"
   ]
  },
  {
   "cell_type": "markdown",
   "metadata": {},
   "source": [
    "**Part F:**  What is the smallest value of $n$ successive rolls of 1, 2, 3, 4, 5 or 6 that would make you believe that there's a better-than-95% chance that the die you grabbed is Six-sided?  Plugging larger and larger values for $n$ into your `prob_six` function is a very reasonable way to check this."
   ]
  },
  {
   "cell_type": "code",
   "execution_count": 3,
   "metadata": {},
   "outputs": [
    {
     "data": {
      "text/plain": [
       "[0.6197706848466068,\n",
       " 0.696507363824104,\n",
       " 0.7573016086562906,\n",
       " 0.8074146609725164,\n",
       " 0.848649264899005,\n",
       " 0.8821506370122627,\n",
       " 0.9089704950268221,\n",
       " 0.9301507673469102,\n",
       " 0.9466859895577822,\n",
       " 0.9594755689833561,\n",
       " 0.9692959817061354,\n",
       " 0.9767939698995929,\n",
       " 0.9824939503724516,\n",
       " 0.9868127590897355]"
      ]
     },
     "execution_count": 3,
     "metadata": {},
     "output_type": "execute_result"
    }
   ],
   "source": [
    "[prob_six(n) for n in range(1,15)]"
   ]
  },
  {
   "cell_type": "markdown",
   "metadata": {},
   "source": [
    "**Solution:** n=10 is large enough for us to say there's at least a 95% chance we are rolling a 6-sided die."
   ]
  },
  {
   "cell_type": "markdown",
   "metadata": {},
   "source": [
    "**Part G (BONUS 5 Points):** Now that you have looked at the probability space of your dice bag, outline the rules you would establish for this dice rolling game to make it _actually fun_, or at least somewhat fair. For example, would you allow or disallow rerolling the same die? Would you assign more points for correctly guessing a rarer die, or keep them equal? Would you create a turn-taking system where you pass the oven mitts and Ostrich Pillow back and forth, or give the roller points based on incorrect guesses? Would you implement other ideas? There's a limitless space for invention here - simply discuss how you would add a few rules (at least 3), and how those rules are based on the findings above (or run more probability calculations or simulations below to explore the space)."
   ]
  },
  {
   "cell_type": "markdown",
   "metadata": {},
   "source": [
    "If you get a 7 or 8, then that number can come from 8,20,100 sided die. If you guess the answer as 8 sided die, you get a few points if it is correct because the number of 8 sided are more. If you guess it came from 20 or 100 sided die and get it correct, you get more points. \n",
    "\n",
    "If you pull a number less than 7, remove the 6 sided die.\n",
    "\n",
    "Similar rules apply to numbers above 8."
   ]
  },
  {
   "cell_type": "markdown",
   "metadata": {},
   "source": [
    "[Back to top](#top)\n",
    "\n",
    "<a id='p3'></a>\n",
    "\n",
    "## (40 pts) Problem 3: Simulation (Stochastic Integration)\n",
    "***\n",
    "\n",
    "One really cool application of random variables is using them to approximate integrals/areas - an extension of the estimation of $\\pi$ done in nb04.  The random method of approximating integrals is used frequently in computational science to approximate really difficult integrals that we *never* want to do by hand.  In this exercise you'll figure out how we can do this in practice and test your method on an integral that we could do by hand. "
   ]
  },
  {
   "cell_type": "markdown",
   "metadata": {},
   "source": [
    "**Part A.**  Let $L$ be a random variable representing how happy your new desk plant, Fernoulli Jr., is today.  It's measured by the **Lushness Index** (LI).  Suppose the probability density function for $L$ is on a scale from zero to one, and is described by an arcsine function:\n",
    "\n",
    "$$\n",
    "f_L(a) = \\begin{cases}\n",
    "         \\left(\\frac{1}{\\frac{\\pi}{2}-1}\\right)\\sin^{-1}(a) & 0 \\leq a \\leq 1 \\\\\n",
    "         0                           & \\text{otherwise}\n",
    "         \\end{cases}\n",
    "$$\n",
    "\n",
    "A Lushness Index of 1 means Fernoulli Jr. is feeling  well-watered, content, and ready to perform binary statistical experiments.  A Lushness Index of 0 means that your plant is really in need of some more sunlight.  \n",
    "\n",
    "\n",
    "\n",
    "Compute **by hand**, the integral of $f(a)$ for $0 \\leq a \\leq 1/2$.  Write a sentence or two to interpret your result physically, in the context of this problem set-up.\n",
    "\n",
    "*Hint*: this is classically an integral that makes use of the fact that $\\frac{d}{dx} \\sin^{-1}(x)=\\frac{1}{\\sqrt{1-x^2}}$.  That sounds like *\"part\"* of the solution.  You should also probably make sure you take a look at the plot of $f$, making mental note of it's minima, maxima, etc. over that interval."
   ]
  },
  {
   "cell_type": "markdown",
   "metadata": {},
   "source": [
    "\n",
    "$\\frac{1}{\\pi/2-1}$ * $\\int{sin^{-1}(x)}dx$ for 0 < x < 1/2\n",
    "\n",
    "Integration by Parts with u = $\\sin^{-1}(a)$ and v = 1:\n",
    "\n",
    "$\\frac{1}{\\pi/2-1}$ * $[x*\\sin^{-1}(a)$]-$\\int \\frac{x}{\\sqrt(1-x^2)dx}$\n",
    "\n",
    "The integral of $\\frac{x}{\\sqrt(1-x^2)}dx = -\\sqrt(1-x^2)$\n",
    "\n",
    "Plug in:\n",
    "\n",
    "$\\frac{1}{\\pi/2-1}$ * $[x*\\sin^{-1}(a)+\\sqrt(1-x^2) ]$\n",
    "\n",
    "=0.22394. \n",
    "\n",
    "This represents the probability of the Lushness Index falling into the interval of [0,1/2]. "
   ]
  },
  {
   "cell_type": "markdown",
   "metadata": {},
   "source": [
    "**Part B.** What is the maximum of $f_L(a)$ over the interval $[0,1]$?  For the rest of the problem, we will refer to this value by $m$."
   ]
  },
  {
   "cell_type": "markdown",
   "metadata": {},
   "source": [
    "The maximum of $f_L(a)$ is when the derivative is 0. This happens at $f_L(1)$. Evaluating the expression:$f_L(1)$ = 2.75"
   ]
  },
  {
   "cell_type": "markdown",
   "metadata": {},
   "source": [
    "**Part C.** Suppose we sample a continuous uniform random variable $X\\sim U(0,1/2)$ and another  random variable $Y \\sim U(0,m)$ and think of them as $x$- and $y$-coordinates of a point in the box $[0,1/2] \\times [0,m]$, or inside the box composed of all points $\\{(x,y)\\,|\\, x \\in [0,1/2], y \\in [0,m]\\}.$  \n",
    "\n",
    "If we compute the ratio of points that fall under the curve $f(x)$ to the total points sampled, what does this value estimate? "
   ]
  },
  {
   "cell_type": "markdown",
   "metadata": {},
   "source": [
    "The ratio will denote the probability that a point is under the curve."
   ]
  },
  {
   "cell_type": "markdown",
   "metadata": {},
   "source": [
    "**Part D.** How could we modify the process outlined in **Part B** so that our estimator estimates the value of the desired integral?  If you need inspiration, check out the in-class notebook on Stochastic Simulation (#4), specifically, the exercise where we estimated $\\pi$!"
   ]
  },
  {
   "cell_type": "markdown",
   "metadata": {},
   "source": [
    "Multiplying the input value of the upper bound times the maximum will modify the process. Then we could multiply that value by the total number of points that fall under the curve divided by the total number of points. "
   ]
  },
  {
   "cell_type": "markdown",
   "metadata": {},
   "source": [
    "**Part E.** Complete the function `integrate` below to compute an approximation to the definition integral $\\int_0^{\\text{ub}} f(x)dx$.  Your function should take as arguments:\n",
    "1. `num_samples` -- the number of points to sample,\n",
    "2. `ub` -- a number between $0$ and $1$ that is the upper bound of the integral, and\n",
    "3. `isPlot` -- a Boolean flag for whether or not to display a plot of the results.\n",
    "\n",
    "Your function should return an approximation of the definite integral by sampling $X$ from $U(0,\\text{ub})$ and $Y$ from $U(0,m)$. For each random draw $(X,Y)$, define the random variable $Z$ that represents whether or not the sampled $Y$ value is less than $f(X)$ for the corresponding $X$ value.\n",
    "\n",
    "Your function should perform three tasks: \n",
    "\n",
    "1. return the estimate of the value of the integral,\n",
    "2. return the sample variance of the random variable $Z$ being simulated, using the np.var function, and\n",
    "3. if `isPlot` is True, plot the curve $f(x)$ as well as the location of the points $(X,Y)$, colored according to whether they fall above or below the curve. "
   ]
  },
  {
   "cell_type": "code",
   "execution_count": 4,
   "metadata": {},
   "outputs": [],
   "source": [
    "# GIVEN CODE - Do not change the inputs/outputs or your code will fail unit tests and auto-grading!\n",
    "\n",
    "def integrate(num_samples, ub, isPlot):\n",
    "    \n",
    "    #-----------------------------------------\n",
    "    below_curve = []\n",
    "    above_curve = []\n",
    "    maximum = ((np.pi)/(np.pi-2))\n",
    "    for i in range(0,num_samples):\n",
    "        x = np.random.choice(np.linspace(0,ub))\n",
    "        y = np.random.choice(np.linspace(0,maximum))\n",
    "        fx = (2/(np.pi-2))*(np.arcsin(x))\n",
    "        if(y<fx):\n",
    "            below_curve.append((x,y))\n",
    "        else:\n",
    "            above_curve.append((x,y))\n",
    "        i+=1\n",
    "    \n",
    "    \n",
    "    #-----------------------------------------\n",
    "    estimate = (maximum*ub*len(below_curve))/(len(below_curve)+len(above_curve))\n",
    "    sample_var = np.var(below_curve)\n",
    "    #-----------------------------------------\n",
    "    \n",
    "    if isPlot:\n",
    "        for one in below_curve:\n",
    "            plt.scatter(one[0], one[1],color=\"green\")\n",
    "        for two in above_curve:\n",
    "            plt.scatter(two[0], two[1],color=\"blue\")\n",
    "        x_value = np.linspace(0,1,50)\n",
    "        plt.plot(x_value, (((2)/(np.pi-2))*np.arcsin(x_value)), c=\"red\", linewidth = 2)\n",
    "        plt.show()\n",
    "    return estimate, sample_var"
   ]
  },
  {
   "cell_type": "markdown",
   "metadata": {},
   "source": [
    "**Part F.** Write your own small unit tests!\n",
    "\n",
    "First, what should your `integrate` function output if you plug in `ub=0`? Set that as `int_0_to_0` below.\n",
    "\n",
    "Second, what should your `integrate` function output if you plug in `ub=`1?  (Is this actually a valid pdf?) Set that as `int_0_to_1` below.\n",
    "\n",
    "Then, you can execute the cell below to run two sanity checks. Write out **in math** (like, a definite integral) what each of these two tests is checking and **why** that is a reasonable sanity check.\n",
    "\n",
    "If these two assertions run without fail, then things seem to be working okay. Note that the upper endpoint test involves randomness, so if it fails, try running it a few times. If it fails a lot, then things are probably going wrong."
   ]
  },
  {
   "cell_type": "code",
   "execution_count": 5,
   "metadata": {},
   "outputs": [
    {
     "name": "stdout",
     "output_type": "stream",
     "text": [
      "(1.059496281645382, 0.18454841117853063)\n"
     ]
    },
    {
     "name": "stderr",
     "output_type": "stream",
     "text": [
      "/opt/anaconda3/lib/python3.8/site-packages/numpy/core/fromnumeric.py:3583: RuntimeWarning: Degrees of freedom <= 0 for slice\n",
      "  return _methods._var(a, axis=axis, dtype=dtype, out=out, ddof=ddof,\n",
      "/opt/anaconda3/lib/python3.8/site-packages/numpy/core/_methods.py:185: RuntimeWarning: invalid value encountered in true_divide\n",
      "  arrmean = um.true_divide(\n",
      "/opt/anaconda3/lib/python3.8/site-packages/numpy/core/_methods.py:209: RuntimeWarning: invalid value encountered in double_scalars\n",
      "  ret = ret.dtype.type(ret / rcount)\n"
     ]
    }
   ],
   "source": [
    "# Part 3F Code\n",
    "int_0_to_0  = 0# fill this in!\n",
    "int_0_to_1 = 1.0# this one too!\n",
    "\n",
    "print(integrate(1000, 1, False))\n",
    "#---------------------------------------\n",
    "# DO NOT EDIT THIS CELL BELOW HERE\n",
    "#---------------------------------------\n",
    "assert integrate(1000, 0, False)[0]==int_0_to_0, \"Error: lower endpoint test failing\"\n",
    "assert math.isclose(integrate(10000, 1, False)[0],int_0_to_1,abs_tol=0.03), \"Error: upper endpoint test failing\""
   ]
  },
  {
   "cell_type": "markdown",
   "metadata": {},
   "source": [
    "**Typeset your solution for Problem 3F in this cell or cells.**"
   ]
  },
  {
   "cell_type": "markdown",
   "metadata": {},
   "source": [
    "**Part G.** Run your simulation with `isPlot=True` and `ub=`$1$ for 1,000 samples so we can see your plot. Then, run your simulation (with `isPlot=False`) with at least 10,000 samples and estimate the value of the given integral. Be sure to leave your cells evaluated for the graders! Does your estimate agree with the exact value of the integral you computed in **Part A**?  As a whole, what advantage does this process offer over actually doing the integral by hand?"
   ]
  },
  {
   "cell_type": "code",
   "execution_count": 6,
   "metadata": {},
   "outputs": [
    {
     "data": {
      "image/png": "[encoded data removed]",
      "text/plain": [
       "<Figure size 432x288 with 1 Axes>"
      ]
     },
     "metadata": {
      "needs_background": "light"
     },
     "output_type": "display_data"
    },
    {
     "data": {
      "text/plain": [
       "(0.23130042200595935, 0.03419168878633254)"
      ]
     },
     "execution_count": 6,
     "metadata": {},
     "output_type": "execute_result"
    }
   ],
   "source": [
    "#Integrate, plot, and estimate!\n",
    "integrate(1000, 1, True)\n",
    "integrate(10000, 0.5, False)"
   ]
  },
  {
   "cell_type": "markdown",
   "metadata": {},
   "source": [
    "**Typeset your solution for Problem 3G in this cell or cells.**"
   ]
  }
 ],
 "metadata": {
  "kernelspec": {
   "display_name": "Python 3",
   "language": "python",
   "name": "python3"
  },
  "language_info": {
   "codemirror_mode": {
    "name": "ipython",
    "version": 3
   },
   "file_extension": ".py",
   "mimetype": "text/x-python",
   "name": "python",
   "nbconvert_exporter": "python",
   "pygments_lexer": "ipython3",
   "version": "3.8.3"
  }
 },
 "nbformat": 4,
 "nbformat_minor": 4
}
